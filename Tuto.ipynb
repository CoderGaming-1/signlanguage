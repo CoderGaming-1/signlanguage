{
 "cells": [
  {
   "cell_type": "code",
   "execution_count": 14,
   "metadata": {},
   "outputs": [],
   "source": [
    "WORKSPACE_PATH = 'H:/RealTimeSignLanguageDetectionwithTFJS/Tensorflow/workspace'\n",
    "SCRIPTS_PATH = 'H:/RealTimeSignLanguageDetectionwithTFJS/Tensorflow/scripts'\n",
    "APIMODEL_PATH = 'H:/RealTimeSignLanguageDetectionwithTFJS/Tensorflow/models'\n",
    "ANNOTATION_PATH = WORKSPACE_PATH+'/annotations'\n",
    "IMAGE_PATH = WORKSPACE_PATH+'/images'\n",
    "MODEL_PATH = WORKSPACE_PATH+'/models'\n",
    "PRETRAINED_MODEL_PATH = WORKSPACE_PATH+'/pre-trained-models'\n",
    "CONFIG_PATH = MODEL_PATH+'/my_ssd_mobnet/pipeline.config'\n",
    "CHECKPOINT_PATH = MODEL_PATH+'/my_ssd_mobnet/'"
   ]
  },
  {
   "cell_type": "code",
   "execution_count": 15,
   "metadata": {},
   "outputs": [],
   "source": [
    "labels = [\n",
    "    {'name':'Hello', 'id':1},\n",
    "    {'name':'Thank You', 'id':2},\n",
    "    {'name':'I Love You', 'id':3},\n",
    "    {'name':'Yes', 'id':4},\n",
    "    {'name':'No', 'id':5},\n",
    "]"
   ]
  },
  {
   "cell_type": "code",
   "execution_count": 16,
   "metadata": {},
   "outputs": [],
   "source": [
    "with open(ANNOTATION_PATH + '\\label_map.pbtxt', 'w') as f:\n",
    "    for label in labels:    \n",
    "        f.write('item { \\n')\n",
    "        f.write('\\tname:\\'{}\\'\\n'.format(label['name']))\n",
    "        f.write('\\tid:{}\\n'.format(label['id']))\n",
    "        f.write('}\\n')"
   ]
  },
  {
   "cell_type": "code",
   "execution_count": 17,
   "metadata": {},
   "outputs": [],
   "source": [
    "import os"
   ]
  },
  {
   "cell_type": "code",
   "execution_count": 18,
   "metadata": {},
   "outputs": [
    {
     "name": "stderr",
     "output_type": "stream",
     "text": [
      "Traceback (most recent call last):\n",
      "  File \"H:/RealTimeSignLanguageDetectionwithTFJS/Tensorflow/scripts/generate_tfrecord.py\", line 61, in <module>\n",
      "    label_map = label_map_util.load_labelmap(args.labels_path)\n",
      "  File \"c:\\Users\\VI TINH BACH KHOA\\AppData\\Local\\Programs\\Python\\Python38\\lib\\site-packages\\object_detection\\utils\\label_map_util.py\", line 132, in load_labelmap\n",
      "    with tf.gfile.GFile(path, 'r') as fid:\n",
      "AttributeError: module 'tensorflow' has no attribute 'gfile'\n",
      "Traceback (most recent call last):\n",
      "  File \"H:/RealTimeSignLanguageDetectionwithTFJS/Tensorflow/scripts/generate_tfrecord.py\", line 61, in <module>\n",
      "    label_map = label_map_util.load_labelmap(args.labels_path)\n",
      "  File \"c:\\Users\\VI TINH BACH KHOA\\AppData\\Local\\Programs\\Python\\Python38\\lib\\site-packages\\object_detection\\utils\\label_map_util.py\", line 132, in load_labelmap\n",
      "    with tf.gfile.GFile(path, 'r') as fid:\n",
      "AttributeError: module 'tensorflow' has no attribute 'gfile'\n"
     ]
    }
   ],
   "source": [
    "!python {SCRIPTS_PATH + '/generate_tfrecord.py'} -x {IMAGE_PATH + '/train'} -l {ANNOTATION_PATH + '/label_map.pbtxt'} -o {ANNOTATION_PATH + '/train.record'}\n",
    "!python {SCRIPTS_PATH + '/generate_tfrecord.py'} -x {IMAGE_PATH + '/test'} -l {ANNOTATION_PATH + '/label_map.pbtxt'} -o {ANNOTATION_PATH + '/test.record'}"
   ]
  },
  {
   "cell_type": "code",
   "execution_count": 19,
   "metadata": {},
   "outputs": [
    {
     "name": "stderr",
     "output_type": "stream",
     "text": [
      "fatal: destination path 'models' already exists and is not an empty directory.\n"
     ]
    }
   ],
   "source": [
    "!cd Tensorflow && git clone https://github.com/tensorflow/models"
   ]
  },
  {
   "cell_type": "code",
   "execution_count": 20,
   "metadata": {},
   "outputs": [],
   "source": [
    "CUSTOM_MODEL_NAME = 'my_ssd_mobnet' "
   ]
  },
  {
   "cell_type": "code",
   "execution_count": 21,
   "metadata": {},
   "outputs": [
    {
     "name": "stderr",
     "output_type": "stream",
     "text": [
      "A subdirectory or file Tensorflow\\workspace\\models\\my_ssd_mobnet already exists.\n"
     ]
    },
    {
     "name": "stderr",
     "output_type": "stream",
     "text": [
      "'cp' is not recognized as an internal or external command,\n",
      "operable program or batch file.\n"
     ]
    }
   ],
   "source": [
    "!mkdir {'Tensorflow\\workspace\\models\\\\'+CUSTOM_MODEL_NAME}\n",
    "!cp {PRETRAINED_MODEL_PATH+'/ssd_mobilenet_v2_fpnlite_320x320_coco17_tpu-8/pipeline.config'} {MODEL_PATH+'/'+CUSTOM_MODEL_NAME}"
   ]
  },
  {
   "cell_type": "code",
   "execution_count": 22,
   "metadata": {},
   "outputs": [
    {
     "ename": "ImportError",
     "evalue": "cannot import name 'eval_pb2' from 'object_detection.protos' (c:\\Users\\VI TINH BACH KHOA\\AppData\\Local\\Programs\\Python\\Python38\\lib\\site-packages\\object_detection\\protos\\__init__.py)",
     "output_type": "error",
     "traceback": [
      "\u001b[1;31m---------------------------------------------------------------------------\u001b[0m",
      "\u001b[1;31mImportError\u001b[0m                               Traceback (most recent call last)",
      "Cell \u001b[1;32mIn[22], line 2\u001b[0m\n\u001b[0;32m      1\u001b[0m \u001b[38;5;28;01mimport\u001b[39;00m \u001b[38;5;21;01mtensorflow\u001b[39;00m \u001b[38;5;28;01mas\u001b[39;00m \u001b[38;5;21;01mtf\u001b[39;00m\n\u001b[1;32m----> 2\u001b[0m \u001b[38;5;28;01mfrom\u001b[39;00m \u001b[38;5;21;01mobject_detection\u001b[39;00m\u001b[38;5;21;01m.\u001b[39;00m\u001b[38;5;21;01mutils\u001b[39;00m \u001b[38;5;28;01mimport\u001b[39;00m config_util\n\u001b[0;32m      3\u001b[0m \u001b[38;5;66;03m# from object_detection.protos import pipeline_pb2\u001b[39;00m\n\u001b[0;32m      4\u001b[0m \u001b[38;5;66;03m# from google.protobuf import text_format\u001b[39;00m\n",
      "File \u001b[1;32mc:\\Users\\VI TINH BACH KHOA\\AppData\\Local\\Programs\\Python\\Python38\\lib\\site-packages\\object_detection\\utils\\config_util.py:24\u001b[0m\n\u001b[0;32m     20\u001b[0m \u001b[38;5;28;01mfrom\u001b[39;00m \u001b[38;5;21;01mgoogle\u001b[39;00m\u001b[38;5;21;01m.\u001b[39;00m\u001b[38;5;21;01mprotobuf\u001b[39;00m \u001b[38;5;28;01mimport\u001b[39;00m text_format\n\u001b[0;32m     22\u001b[0m \u001b[38;5;28;01mfrom\u001b[39;00m \u001b[38;5;21;01mtensorflow\u001b[39;00m\u001b[38;5;21;01m.\u001b[39;00m\u001b[38;5;21;01mpython\u001b[39;00m\u001b[38;5;21;01m.\u001b[39;00m\u001b[38;5;21;01mlib\u001b[39;00m\u001b[38;5;21;01m.\u001b[39;00m\u001b[38;5;21;01mio\u001b[39;00m \u001b[38;5;28;01mimport\u001b[39;00m file_io\n\u001b[1;32m---> 24\u001b[0m \u001b[38;5;28;01mfrom\u001b[39;00m \u001b[38;5;21;01mobject_detection\u001b[39;00m\u001b[38;5;21;01m.\u001b[39;00m\u001b[38;5;21;01mprotos\u001b[39;00m \u001b[38;5;28;01mimport\u001b[39;00m eval_pb2\n\u001b[0;32m     25\u001b[0m \u001b[38;5;28;01mfrom\u001b[39;00m \u001b[38;5;21;01mobject_detection\u001b[39;00m\u001b[38;5;21;01m.\u001b[39;00m\u001b[38;5;21;01mprotos\u001b[39;00m \u001b[38;5;28;01mimport\u001b[39;00m graph_rewriter_pb2\n\u001b[0;32m     26\u001b[0m \u001b[38;5;28;01mfrom\u001b[39;00m \u001b[38;5;21;01mobject_detection\u001b[39;00m\u001b[38;5;21;01m.\u001b[39;00m\u001b[38;5;21;01mprotos\u001b[39;00m \u001b[38;5;28;01mimport\u001b[39;00m input_reader_pb2\n",
      "\u001b[1;31mImportError\u001b[0m: cannot import name 'eval_pb2' from 'object_detection.protos' (c:\\Users\\VI TINH BACH KHOA\\AppData\\Local\\Programs\\Python\\Python38\\lib\\site-packages\\object_detection\\protos\\__init__.py)"
     ]
    }
   ],
   "source": [
    "import tensorflow as tf\n",
    "from object_detection.utils import config_util\n",
    "# from object_detection.protos import pipeline_pb2\n",
    "# from google.protobuf import text_format"
   ]
  },
  {
   "cell_type": "code",
   "execution_count": null,
   "metadata": {},
   "outputs": [],
   "source": [
    "CONFIG_PATH = MODEL_PATH+'/'+CUSTOM_MODEL_NAME+'/pipeline.config'"
   ]
  },
  {
   "cell_type": "code",
   "execution_count": null,
   "metadata": {},
   "outputs": [],
   "source": [
    "config = config_util.get_configs_from_pipeline_file(CONFIG_PATH)"
   ]
  },
  {
   "cell_type": "code",
   "execution_count": null,
   "metadata": {},
   "outputs": [
    {
     "name": "stdout",
     "output_type": "stream",
     "text": [
      "Available objects for config:\n",
      "    AliasManager\n",
      "    DisplayFormatter\n",
      "    HistoryManager\n",
      "    IPCompleter\n",
      "    IPKernelApp\n",
      "    LoggingMagics\n",
      "    MagicsManager\n",
      "    OSMagics\n",
      "    PrefilterManager\n",
      "    ScriptMagics\n",
      "    StoreMagics\n",
      "    ZMQInteractiveShell\n"
     ]
    }
   ],
   "source": [
    "config"
   ]
  },
  {
   "cell_type": "code",
   "execution_count": null,
   "metadata": {},
   "outputs": [
    {
     "ename": "NameError",
     "evalue": "name 'pipeline_pb2' is not defined",
     "output_type": "error",
     "traceback": [
      "\u001b[1;31m---------------------------------------------------------------------------\u001b[0m",
      "\u001b[1;31mNameError\u001b[0m                                 Traceback (most recent call last)",
      "Cell \u001b[1;32mIn[1], line 1\u001b[0m\n\u001b[1;32m----> 1\u001b[0m pipeline_config \u001b[38;5;241m=\u001b[39m \u001b[43mpipeline_pb2\u001b[49m\u001b[38;5;241m.\u001b[39mTrainEvalPipelineConfig()\n\u001b[0;32m      2\u001b[0m \u001b[38;5;28;01mwith\u001b[39;00m tf\u001b[38;5;241m.\u001b[39mio\u001b[38;5;241m.\u001b[39mgfile\u001b[38;5;241m.\u001b[39mGFile(CONFIG_PATH, \u001b[38;5;124m\"\u001b[39m\u001b[38;5;124mr\u001b[39m\u001b[38;5;124m\"\u001b[39m) \u001b[38;5;28;01mas\u001b[39;00m f:                                                                                                                                                                                                                     \n\u001b[0;32m      3\u001b[0m     proto_str \u001b[38;5;241m=\u001b[39m f\u001b[38;5;241m.\u001b[39mread()                                                                                                                                                                                                                                          \n",
      "\u001b[1;31mNameError\u001b[0m: name 'pipeline_pb2' is not defined"
     ]
    }
   ],
   "source": [
    "\n",
    "pipeline_config = pipeline_pb2.TrainEvalPipelineConfig()\n",
    "with tf.io.gfile.GFile(CONFIG_PATH, \"r\") as f:                                                                                                                                                                                                                     \n",
    "    proto_str = f.read()                                                                                                                                                                                                                                          \n",
    "    text_format.Merge(proto_str, pipeline_config)  "
   ]
  },
  {
   "cell_type": "code",
   "execution_count": null,
   "metadata": {},
   "outputs": [
    {
     "ename": "NameError",
     "evalue": "name 'labels' is not defined",
     "output_type": "error",
     "traceback": [
      "\u001b[1;31m---------------------------------------------------------------------------\u001b[0m",
      "\u001b[1;31mNameError\u001b[0m                                 Traceback (most recent call last)",
      "Cell \u001b[1;32mIn[10], line 2\u001b[0m\n\u001b[0;32m      1\u001b[0m \u001b[38;5;66;03m### CHANGE\u001b[39;00m\n\u001b[1;32m----> 2\u001b[0m \u001b[38;5;28mlen\u001b[39m(\u001b[43mlabels\u001b[49m)\n",
      "\u001b[1;31mNameError\u001b[0m: name 'labels' is not defined"
     ]
    }
   ],
   "source": [
    "### CHANGE\n",
    "len(labels)"
   ]
  },
  {
   "cell_type": "code",
   "execution_count": null,
   "metadata": {},
   "outputs": [],
   "source": [
    "pipeline_config.model.ssd.num_classes = len(labels)\n",
    "pipeline_config.train_config.batch_size = 4\n",
    "pipeline_config.train_config.fine_tune_checkpoint = PRETRAINED_MODEL_PATH+'/ssd_mobilenet_v2_fpnlite_320x320_coco17_tpu-8/checkpoint/ckpt-0'\n",
    "pipeline_config.train_config.fine_tune_checkpoint_type = \"detection\"\n",
    "pipeline_config.train_input_reader.label_map_path= ANNOTATION_PATH + '/label_map.pbtxt'\n",
    "pipeline_config.train_input_reader.tf_record_input_reader.input_path[:] = [ANNOTATION_PATH + '/train.record']\n",
    "pipeline_config.eval_input_reader[0].label_map_path = ANNOTATION_PATH + '/label_map.pbtxt'\n",
    "pipeline_config.eval_input_reader[0].tf_record_input_reader.input_path[:] = [ANNOTATION_PATH + '/test.record']"
   ]
  },
  {
   "cell_type": "code",
   "execution_count": null,
   "metadata": {},
   "outputs": [],
   "source": [
    "config_text = text_format.MessageToString(pipeline_config)                                                                                                                                                                                                        \n",
    "with tf.io.gfile.GFile(CONFIG_PATH, \"wb\") as f:                                                                                                                                                                                                                     \n",
    "    f.write(config_text)   "
   ]
  },
  {
   "cell_type": "code",
   "execution_count": 23,
   "metadata": {},
   "outputs": [
    {
     "name": "stdout",
     "output_type": "stream",
     "text": [
      "python H:/RealTimeSignLanguageDetectionwithTFJS/Tensorflow/models/research/object_detection/model_main_tf2.py --model_dir=H:/RealTimeSignLanguageDetectionwithTFJS/Tensorflow/workspace/models/my_ssd_mobnet --pipeline_config_path=H:/RealTimeSignLanguageDetectionwithTFJS/Tensorflow/workspace/models/my_ssd_mobnet/pipeline.config --num_train_steps=5000\n"
     ]
    }
   ],
   "source": [
    "WORKSPACE_PATH = 'H:/RealTimeSignLanguageDetectionwithTFJS/Tensorflow/workspace'\n",
    "SCRIPTS_PATH = 'H:/RealTimeSignLanguageDetectionwithTFJS/Tensorflow/scripts'\n",
    "APIMODEL_PATH = 'H:/RealTimeSignLanguageDetectionwithTFJS/Tensorflow/models'\n",
    "ANNOTATION_PATH = WORKSPACE_PATH+'/annotations'\n",
    "IMAGE_PATH = WORKSPACE_PATH+'/images'\n",
    "MODEL_PATH = WORKSPACE_PATH+'/models'\n",
    "print(\"\"\"python {}/research/object_detection/model_main_tf2.py --model_dir={}/{} --pipeline_config_path={}/{}/pipeline.config --num_train_steps=5000\"\"\".format(APIMODEL_PATH, MODEL_PATH,CUSTOM_MODEL_NAME,MODEL_PATH,CUSTOM_MODEL_NAME))"
   ]
  },
  {
   "cell_type": "code",
   "execution_count": 24,
   "metadata": {},
   "outputs": [
    {
     "ename": "ImportError",
     "evalue": "cannot import name 'anchor_generator_pb2' from 'object_detection.protos' (c:\\Users\\VI TINH BACH KHOA\\AppData\\Local\\Programs\\Python\\Python38\\lib\\site-packages\\object_detection\\protos\\__init__.py)",
     "output_type": "error",
     "traceback": [
      "\u001b[1;31m---------------------------------------------------------------------------\u001b[0m",
      "\u001b[1;31mImportError\u001b[0m                               Traceback (most recent call last)",
      "Cell \u001b[1;32mIn[24], line 4\u001b[0m\n\u001b[0;32m      2\u001b[0m \u001b[38;5;28;01mfrom\u001b[39;00m \u001b[38;5;21;01mobject_detection\u001b[39;00m\u001b[38;5;21;01m.\u001b[39;00m\u001b[38;5;21;01mutils\u001b[39;00m \u001b[38;5;28;01mimport\u001b[39;00m label_map_util\n\u001b[0;32m      3\u001b[0m \u001b[38;5;28;01mfrom\u001b[39;00m \u001b[38;5;21;01mobject_detection\u001b[39;00m\u001b[38;5;21;01m.\u001b[39;00m\u001b[38;5;21;01mutils\u001b[39;00m \u001b[38;5;28;01mimport\u001b[39;00m visualization_utils \u001b[38;5;28;01mas\u001b[39;00m viz_utils\n\u001b[1;32m----> 4\u001b[0m \u001b[38;5;28;01mfrom\u001b[39;00m \u001b[38;5;21;01mobject_detection\u001b[39;00m\u001b[38;5;21;01m.\u001b[39;00m\u001b[38;5;21;01mbuilders\u001b[39;00m \u001b[38;5;28;01mimport\u001b[39;00m model_builder\n",
      "File \u001b[1;32mc:\\Users\\VI TINH BACH KHOA\\AppData\\Local\\Programs\\Python\\Python38\\lib\\site-packages\\object_detection\\builders\\model_builder.py:20\u001b[0m\n\u001b[0;32m     16\u001b[0m \u001b[38;5;124;03m\"\"\"A function to build a DetectionModel from configuration.\"\"\"\u001b[39;00m\n\u001b[0;32m     18\u001b[0m \u001b[38;5;28;01mimport\u001b[39;00m \u001b[38;5;21;01mfunctools\u001b[39;00m\n\u001b[1;32m---> 20\u001b[0m \u001b[38;5;28;01mfrom\u001b[39;00m \u001b[38;5;21;01mobject_detection\u001b[39;00m\u001b[38;5;21;01m.\u001b[39;00m\u001b[38;5;21;01mbuilders\u001b[39;00m \u001b[38;5;28;01mimport\u001b[39;00m anchor_generator_builder\n\u001b[0;32m     21\u001b[0m \u001b[38;5;28;01mfrom\u001b[39;00m \u001b[38;5;21;01mobject_detection\u001b[39;00m\u001b[38;5;21;01m.\u001b[39;00m\u001b[38;5;21;01mbuilders\u001b[39;00m \u001b[38;5;28;01mimport\u001b[39;00m box_coder_builder\n\u001b[0;32m     22\u001b[0m \u001b[38;5;28;01mfrom\u001b[39;00m \u001b[38;5;21;01mobject_detection\u001b[39;00m\u001b[38;5;21;01m.\u001b[39;00m\u001b[38;5;21;01mbuilders\u001b[39;00m \u001b[38;5;28;01mimport\u001b[39;00m box_predictor_builder\n",
      "File \u001b[1;32mc:\\Users\\VI TINH BACH KHOA\\AppData\\Local\\Programs\\Python\\Python38\\lib\\site-packages\\object_detection\\builders\\anchor_generator_builder.py:21\u001b[0m\n\u001b[0;32m     19\u001b[0m \u001b[38;5;28;01mfrom\u001b[39;00m \u001b[38;5;21;01mobject_detection\u001b[39;00m\u001b[38;5;21;01m.\u001b[39;00m\u001b[38;5;21;01manchor_generators\u001b[39;00m \u001b[38;5;28;01mimport\u001b[39;00m multiple_grid_anchor_generator\n\u001b[0;32m     20\u001b[0m \u001b[38;5;28;01mfrom\u001b[39;00m \u001b[38;5;21;01mobject_detection\u001b[39;00m\u001b[38;5;21;01m.\u001b[39;00m\u001b[38;5;21;01manchor_generators\u001b[39;00m \u001b[38;5;28;01mimport\u001b[39;00m multiscale_grid_anchor_generator\n\u001b[1;32m---> 21\u001b[0m \u001b[38;5;28;01mfrom\u001b[39;00m \u001b[38;5;21;01mobject_detection\u001b[39;00m\u001b[38;5;21;01m.\u001b[39;00m\u001b[38;5;21;01mprotos\u001b[39;00m \u001b[38;5;28;01mimport\u001b[39;00m anchor_generator_pb2\n\u001b[0;32m     24\u001b[0m \u001b[38;5;28;01mdef\u001b[39;00m \u001b[38;5;21mbuild\u001b[39m(anchor_generator_config):\n\u001b[0;32m     25\u001b[0m \u001b[38;5;250m  \u001b[39m\u001b[38;5;124;03m\"\"\"Builds an anchor generator based on the config.\u001b[39;00m\n\u001b[0;32m     26\u001b[0m \n\u001b[0;32m     27\u001b[0m \u001b[38;5;124;03m  Args:\u001b[39;00m\n\u001b[1;32m   (...)\u001b[0m\n\u001b[0;32m     35\u001b[0m \u001b[38;5;124;03m    ValueError: On empty anchor generator proto.\u001b[39;00m\n\u001b[0;32m     36\u001b[0m \u001b[38;5;124;03m  \"\"\"\u001b[39;00m\n",
      "\u001b[1;31mImportError\u001b[0m: cannot import name 'anchor_generator_pb2' from 'object_detection.protos' (c:\\Users\\VI TINH BACH KHOA\\AppData\\Local\\Programs\\Python\\Python38\\lib\\site-packages\\object_detection\\protos\\__init__.py)"
     ]
    }
   ],
   "source": [
    "import os\n",
    "from object_detection.utils import label_map_util\n",
    "from object_detection.utils import visualization_utils as viz_utils\n",
    "from object_detection.builders import model_builder"
   ]
  },
  {
   "cell_type": "code",
   "execution_count": null,
   "metadata": {},
   "outputs": [],
   "source": [
    "# Load pipeline config and build a detection model\n",
    "configs = config_util.get_configs_from_pipeline_file(CONFIG_PATH)\n",
    "detection_model = model_builder.build(model_config=configs['model'], is_training=False)\n",
    "\n",
    "# Restore checkpoint\n",
    "ckpt = tf.compat.v2.train.Checkpoint(model=detection_model)\n",
    "ckpt.restore(os.path.join(CHECKPOINT_PATH, 'ckpt-11')).expect_partial()\n",
    "\n",
    "@tf.function\n",
    "def detect_fn(image):\n",
    "    image, shapes = detection_model.preprocess(image)\n",
    "    prediction_dict = detection_model.predict(image, shapes)\n",
    "    detections = detection_model.postprocess(prediction_dict, shapes)\n",
    "    return detections"
   ]
  },
  {
   "cell_type": "code",
   "execution_count": 25,
   "metadata": {},
   "outputs": [],
   "source": [
    "import cv2 \n",
    "import numpy as np"
   ]
  },
  {
   "cell_type": "code",
   "execution_count": null,
   "metadata": {},
   "outputs": [],
   "source": [
    "category_index = label_map_util.create_category_index_from_labelmap(ANNOTATION_PATH+'/label_map.pbtxt')"
   ]
  },
  {
   "cell_type": "code",
   "execution_count": null,
   "metadata": {},
   "outputs": [],
   "source": [
    "cap = cv2.VideoCapture(0)\n",
    "while True: \n",
    "    ret, frame = cap.read()\n",
    "    image_np = np.array(frame)\n",
    "    \n",
    "    input_tensor = tf.convert_to_tensor(np.expand_dims(image_np, 0), dtype=tf.float32)\n",
    "    detections = detect_fn(input_tensor)\n",
    "    \n",
    "    num_detections = int(detections.pop('num_detections'))\n",
    "    detections = {key: value[0, :num_detections].numpy()\n",
    "                  for key, value in detections.items()}\n",
    "    detections['num_detections'] = num_detections\n",
    "\n",
    "    # detection_classes should be ints.\n",
    "    detections['detection_classes'] = detections['detection_classes'].astype(np.int64)\n",
    "\n",
    "    label_id_offset = 1\n",
    "    image_np_with_detections = image_np.copy()\n",
    "\n",
    "    viz_utils.visualize_boxes_and_labels_on_image_array(\n",
    "                image_np_with_detections,\n",
    "                detections['detection_boxes'],\n",
    "                detections['detection_classes']+label_id_offset,\n",
    "                detections['detection_scores'],\n",
    "                category_index,\n",
    "                use_normalized_coordinates=True,\n",
    "                max_boxes_to_draw=1,\n",
    "                min_score_thresh=.95,\n",
    "                agnostic_mode=False)\n",
    "\n",
    "    cv2.imshow('object detection',  cv2.resize(image_np_with_detections, (800, 600)))\n",
    "    \n",
    "    if cv2.waitKey(1) & 0xFF == ord('q'):\n",
    "        cap.release()\n",
    "        break\n",
    "cap.release()"
   ]
  },
  {
   "cell_type": "code",
   "execution_count": 26,
   "metadata": {},
   "outputs": [
    {
     "name": "stdout",
     "output_type": "stream",
     "text": [
      "python H:/RealTimeSignLanguageDetectionwithTFJS/Tensorflow/models/research/object_detection/exporter_main_v2.py --input_type=image_tensor --pipeline_config_path=H:/RealTimeSignLanguageDetectionwithTFJS/Tensorflow/workspace/models/my_ssd_mobnet/pipeline.config --trained_checkpoint_dir=H:/RealTimeSignLanguageDetectionwithTFJS/Tensorflow/workspace/models/my_ssd_mobnet/ --output_directory=H:/RealTimeSignLanguageDetectionwithTFJS/Tensorflow/workspace/models/my_ssd_mobnet/export\n"
     ]
    }
   ],
   "source": [
    "print(\"\"\"python {}/research/object_detection/exporter_main_v2.py --input_type=image_tensor --pipeline_config_path={}/{}/pipeline.config --trained_checkpoint_dir={} --output_directory={}export\"\"\".format(APIMODEL_PATH, MODEL_PATH, CUSTOM_MODEL_NAME,CHECKPOINT_PATH, CHECKPOINT_PATH))"
   ]
  },
  {
   "cell_type": "code",
   "execution_count": 28,
   "metadata": {},
   "outputs": [
    {
     "name": "stdout",
     "output_type": "stream",
     "text": [
      "Collecting tensorflowjs\n",
      "  Using cached tensorflowjs-4.17.0-py3-none-any.whl.metadata (3.2 kB)\n",
      "Collecting flax>=0.7.2 (from tensorflowjs)\n",
      "  Using cached flax-0.7.2-py3-none-any.whl.metadata (10.0 kB)\n",
      "Requirement already satisfied: importlib_resources>=5.9.0 in c:\\users\\vi tinh bach khoa\\appdata\\local\\programs\\python\\python38\\lib\\site-packages (from tensorflowjs) (6.3.0)\n",
      "Requirement already satisfied: jax>=0.4.13 in c:\\users\\vi tinh bach khoa\\appdata\\local\\programs\\python\\python38\\lib\\site-packages (from tensorflowjs) (0.4.13)\n",
      "INFO: pip is looking at multiple versions of tensorflowjs to determine which version is compatible with other requirements. This could take a while.\n",
      "Collecting tensorflowjs\n",
      "  Using cached tensorflowjs-4.16.0-py3-none-any.whl.metadata (3.2 kB)\n",
      "  Using cached tensorflowjs-4.15.0-py3-none-any.whl.metadata (3.2 kB)\n",
      "  Using cached tensorflowjs-4.14.0-py3-none-any.whl.metadata (3.2 kB)\n",
      "  Using cached tensorflowjs-4.13.0-py3-none-any.whl.metadata (3.2 kB)\n",
      "  Using cached tensorflowjs-4.12.0-py3-none-any.whl.metadata (3.2 kB)\n",
      "  Using cached tensorflowjs-4.11.0-py3-none-any.whl.metadata (3.2 kB)\n",
      "  Using cached tensorflowjs-4.10.0-py3-none-any.whl.metadata (3.1 kB)\n",
      "Collecting flax<0.6.3,>=0.6.2 (from tensorflowjs)\n",
      "  Using cached flax-0.6.2-py3-none-any.whl.metadata (9.5 kB)\n",
      "Requirement already satisfied: tensorflow<3,>=2.12.0 in c:\\users\\vi tinh bach khoa\\appdata\\local\\programs\\python\\python38\\lib\\site-packages (from tensorflowjs) (2.13.0)\n",
      "INFO: pip is still looking at multiple versions of tensorflowjs to determine which version is compatible with other requirements. This could take a while.\n",
      "Collecting tensorflowjs\n",
      "  Using cached tensorflowjs-4.9.0-py3-none-any.whl.metadata (3.1 kB)\n",
      "  Using cached tensorflowjs-4.8.0-py3-none-any.whl.metadata (3.1 kB)\n",
      "  Using cached tensorflowjs-4.7.0-py3-none-any.whl.metadata (3.1 kB)\n",
      "  Using cached tensorflowjs-4.6.0-py3-none-any.whl.metadata (3.1 kB)\n",
      "  Using cached tensorflowjs-4.5.0-py3-none-any.whl.metadata (3.1 kB)\n",
      "INFO: This is taking longer than usual. You might need to provide the dependency resolver with stricter constraints to reduce runtime. See https://pip.pypa.io/warnings/backtracking for guidance. If you want to abort this run, press Ctrl + C.\n",
      "  Using cached tensorflowjs-4.4.0-py3-none-any.whl.metadata (3.2 kB)\n",
      "Collecting protobuf<3.20,>=3.9.2 (from tensorflowjs)\n",
      "  Using cached protobuf-3.19.6-cp38-cp38-win_amd64.whl.metadata (807 bytes)\n",
      "Collecting tensorflowjs\n",
      "  Using cached tensorflowjs-4.3.0-py3-none-any.whl.metadata (3.2 kB)\n",
      "  Using cached tensorflowjs-4.2.0-py3-none-any.whl.metadata (1.7 kB)\n",
      "  Using cached tensorflowjs-4.1.0-py3-none-any.whl.metadata (1.7 kB)\n",
      "  Using cached tensorflowjs-4.0.0-py3-none-any.whl.metadata (1.7 kB)\n",
      "  Using cached tensorflowjs-3.21.0-py3-none-any.whl.metadata (1.7 kB)\n",
      "Requirement already satisfied: six<2,>=1.12.0 in c:\\users\\vi tinh bach khoa\\appdata\\roaming\\python\\python38\\site-packages (from tensorflowjs) (1.16.0)\n",
      "Collecting tensorflow-hub<0.13,>=0.7.0 (from tensorflowjs)\n",
      "  Using cached tensorflow_hub-0.12.0-py2.py3-none-any.whl.metadata (1.7 kB)\n",
      "Collecting packaging~=20.9 (from tensorflowjs)\n",
      "  Using cached packaging-20.9-py2.py3-none-any.whl.metadata (13 kB)\n",
      "Requirement already satisfied: numpy>=1.12 in c:\\users\\vi tinh bach khoa\\appdata\\local\\programs\\python\\python38\\lib\\site-packages (from flax>=0.7.2->tensorflowjs) (1.24.3)\n",
      "Collecting msgpack (from flax>=0.7.2->tensorflowjs)\n",
      "  Using cached msgpack-1.0.8-cp38-cp38-win_amd64.whl.metadata (9.4 kB)\n",
      "Collecting optax (from flax>=0.7.2->tensorflowjs)\n",
      "  Using cached optax-0.1.8-py3-none-any.whl.metadata (14 kB)\n",
      "Collecting orbax-checkpoint (from flax>=0.7.2->tensorflowjs)\n",
      "  Using cached orbax_checkpoint-0.2.3-py3-none-any.whl.metadata (1.8 kB)\n",
      "Collecting tensorstore (from flax>=0.7.2->tensorflowjs)\n",
      "  Using cached tensorstore-0.1.45-cp38-cp38-win_amd64.whl.metadata (3.0 kB)\n",
      "Collecting rich>=11.1 (from flax>=0.7.2->tensorflowjs)\n",
      "  Using cached rich-13.7.1-py3-none-any.whl.metadata (18 kB)\n",
      "Requirement already satisfied: typing-extensions>=4.1.1 in c:\\users\\vi tinh bach khoa\\appdata\\local\\programs\\python\\python38\\lib\\site-packages (from flax>=0.7.2->tensorflowjs) (4.5.0)\n",
      "Requirement already satisfied: PyYAML>=5.4.1 in c:\\users\\vi tinh bach khoa\\appdata\\local\\programs\\python\\python38\\lib\\site-packages (from flax>=0.7.2->tensorflowjs) (6.0.1)\n",
      "Requirement already satisfied: zipp>=3.1.0 in c:\\users\\vi tinh bach khoa\\appdata\\roaming\\python\\python38\\site-packages (from importlib_resources>=5.9.0->tensorflowjs) (3.17.0)\n",
      "Requirement already satisfied: ml-dtypes>=0.1.0 in c:\\users\\vi tinh bach khoa\\appdata\\local\\programs\\python\\python38\\lib\\site-packages (from jax>=0.4.13->tensorflowjs) (0.2.0)\n",
      "Requirement already satisfied: opt-einsum in c:\\users\\vi tinh bach khoa\\appdata\\local\\programs\\python\\python38\\lib\\site-packages (from jax>=0.4.13->tensorflowjs) (3.3.0)\n",
      "Requirement already satisfied: scipy>=1.7 in c:\\users\\vi tinh bach khoa\\appdata\\local\\programs\\python\\python38\\lib\\site-packages (from jax>=0.4.13->tensorflowjs) (1.10.1)\n",
      "Requirement already satisfied: importlib-metadata>=4.6 in c:\\users\\vi tinh bach khoa\\appdata\\roaming\\python\\python38\\site-packages (from jax>=0.4.13->tensorflowjs) (7.0.1)\n",
      "Requirement already satisfied: pyparsing>=2.0.2 in c:\\users\\vi tinh bach khoa\\appdata\\local\\programs\\python\\python38\\lib\\site-packages (from packaging~=20.9->tensorflowjs) (3.1.2)\n",
      "Requirement already satisfied: tensorflow-intel==2.13.0 in c:\\users\\vi tinh bach khoa\\appdata\\local\\programs\\python\\python38\\lib\\site-packages (from tensorflow<3,>=2.12.0->tensorflowjs) (2.13.0)\n",
      "Requirement already satisfied: absl-py>=1.0.0 in c:\\users\\vi tinh bach khoa\\appdata\\local\\programs\\python\\python38\\lib\\site-packages (from tensorflow-intel==2.13.0->tensorflow<3,>=2.12.0->tensorflowjs) (2.1.0)\n",
      "Requirement already satisfied: astunparse>=1.6.0 in c:\\users\\vi tinh bach khoa\\appdata\\local\\programs\\python\\python38\\lib\\site-packages (from tensorflow-intel==2.13.0->tensorflow<3,>=2.12.0->tensorflowjs) (1.6.3)\n",
      "Requirement already satisfied: flatbuffers>=23.1.21 in c:\\users\\vi tinh bach khoa\\appdata\\local\\programs\\python\\python38\\lib\\site-packages (from tensorflow-intel==2.13.0->tensorflow<3,>=2.12.0->tensorflowjs) (24.3.7)\n",
      "Requirement already satisfied: gast<=0.4.0,>=0.2.1 in c:\\users\\vi tinh bach khoa\\appdata\\local\\programs\\python\\python38\\lib\\site-packages (from tensorflow-intel==2.13.0->tensorflow<3,>=2.12.0->tensorflowjs) (0.4.0)\n",
      "Requirement already satisfied: google-pasta>=0.1.1 in c:\\users\\vi tinh bach khoa\\appdata\\local\\programs\\python\\python38\\lib\\site-packages (from tensorflow-intel==2.13.0->tensorflow<3,>=2.12.0->tensorflowjs) (0.2.0)\n",
      "Requirement already satisfied: h5py>=2.9.0 in c:\\users\\vi tinh bach khoa\\appdata\\local\\programs\\python\\python38\\lib\\site-packages (from tensorflow-intel==2.13.0->tensorflow<3,>=2.12.0->tensorflowjs) (3.10.0)\n",
      "Requirement already satisfied: libclang>=13.0.0 in c:\\users\\vi tinh bach khoa\\appdata\\local\\programs\\python\\python38\\lib\\site-packages (from tensorflow-intel==2.13.0->tensorflow<3,>=2.12.0->tensorflowjs) (16.0.6)\n",
      "INFO: pip is looking at multiple versions of tensorflow-intel to determine which version is compatible with other requirements. This could take a while.\n",
      "Collecting tensorflow<3,>=2.1.0 (from tensorflowjs)\n",
      "  Using cached tensorflow-2.13.1-cp38-cp38-win_amd64.whl.metadata (2.6 kB)\n",
      "INFO: pip is looking at multiple versions of tensorflow to determine which version is compatible with other requirements. This could take a while.\n",
      "  Using cached tensorflow-2.13.0-cp38-cp38-win_amd64.whl.metadata (2.6 kB)\n",
      "  Using cached tensorflow-2.12.1-cp38-cp38-win_amd64.whl.metadata (2.5 kB)\n",
      "Collecting tensorflow-intel==2.12.1 (from tensorflow<3,>=2.1.0->tensorflowjs)\n",
      "  Using cached tensorflow_intel-2.12.1-cp38-cp38-win_amd64.whl.metadata (4.1 kB)\n",
      "Collecting tensorflow<3,>=2.1.0 (from tensorflowjs)\n",
      "  Using cached tensorflow-2.12.0-cp38-cp38-win_amd64.whl.metadata (2.5 kB)\n",
      "Collecting tensorflow-intel==2.12.0 (from tensorflow<3,>=2.1.0->tensorflowjs)\n",
      "  Using cached tensorflow_intel-2.12.0-cp38-cp38-win_amd64.whl.metadata (4.1 kB)\n",
      "Collecting numpy>=1.12 (from flax>=0.7.2->tensorflowjs)\n",
      "  Using cached numpy-1.23.5-cp38-cp38-win_amd64.whl.metadata (2.3 kB)\n",
      "Collecting tensorflow<3,>=2.1.0 (from tensorflowjs)\n",
      "  Using cached tensorflow-2.11.1-cp38-cp38-win_amd64.whl.metadata (2.5 kB)\n",
      "Collecting tensorflow-intel==2.11.1 (from tensorflow<3,>=2.1.0->tensorflowjs)\n",
      "  Using cached tensorflow_intel-2.11.1-cp38-cp38-win_amd64.whl.metadata (3.9 kB)\n",
      "Requirement already satisfied: setuptools in c:\\users\\vi tinh bach khoa\\appdata\\local\\programs\\python\\python38\\lib\\site-packages (from tensorflow-intel==2.11.1->tensorflow<3,>=2.1.0->tensorflowjs) (69.2.0)\n",
      "Requirement already satisfied: termcolor>=1.1.0 in c:\\users\\vi tinh bach khoa\\appdata\\local\\programs\\python\\python38\\lib\\site-packages (from tensorflow-intel==2.11.1->tensorflow<3,>=2.1.0->tensorflowjs) (2.4.0)\n",
      "Requirement already satisfied: wrapt>=1.11.0 in c:\\users\\vi tinh bach khoa\\appdata\\local\\programs\\python\\python38\\lib\\site-packages (from tensorflow-intel==2.11.1->tensorflow<3,>=2.1.0->tensorflowjs) (1.16.0)\n",
      "Requirement already satisfied: grpcio<2.0,>=1.24.3 in c:\\users\\vi tinh bach khoa\\appdata\\local\\programs\\python\\python38\\lib\\site-packages (from tensorflow-intel==2.11.1->tensorflow<3,>=2.1.0->tensorflowjs) (1.62.1)\n",
      "Collecting tensorboard<2.12,>=2.11 (from tensorflow-intel==2.11.1->tensorflow<3,>=2.1.0->tensorflowjs)\n",
      "  Using cached tensorboard-2.11.2-py3-none-any.whl.metadata (1.9 kB)\n",
      "Collecting tensorflow-estimator<2.12,>=2.11.0 (from tensorflow-intel==2.11.1->tensorflow<3,>=2.1.0->tensorflowjs)\n",
      "  Using cached tensorflow_estimator-2.11.0-py2.py3-none-any.whl.metadata (1.3 kB)\n",
      "Collecting keras<2.12,>=2.11.0 (from tensorflow-intel==2.11.1->tensorflow<3,>=2.1.0->tensorflowjs)\n",
      "  Using cached keras-2.11.0-py2.py3-none-any.whl.metadata (1.4 kB)\n",
      "Requirement already satisfied: tensorflow-io-gcs-filesystem>=0.23.1 in c:\\users\\vi tinh bach khoa\\appdata\\local\\programs\\python\\python38\\lib\\site-packages (from tensorflow-intel==2.11.1->tensorflow<3,>=2.1.0->tensorflowjs) (0.31.0)\n",
      "Collecting markdown-it-py>=2.2.0 (from rich>=11.1->flax>=0.7.2->tensorflowjs)\n",
      "  Using cached markdown_it_py-3.0.0-py3-none-any.whl.metadata (6.9 kB)\n",
      "Requirement already satisfied: pygments<3.0.0,>=2.13.0 in c:\\users\\vi tinh bach khoa\\appdata\\roaming\\python\\python38\\site-packages (from rich>=11.1->flax>=0.7.2->tensorflowjs) (2.17.2)\n",
      "Collecting chex>=0.1.7 (from optax->flax>=0.7.2->tensorflowjs)\n",
      "  Using cached chex-0.1.7-py3-none-any.whl.metadata (17 kB)\n",
      "INFO: pip is looking at multiple versions of optax to determine which version is compatible with other requirements. This could take a while.\n",
      "Collecting optax (from flax>=0.7.2->tensorflowjs)\n",
      "  Using cached optax-0.1.7-py3-none-any.whl.metadata (13 kB)\n",
      "  Using cached optax-0.1.5-py3-none-any.whl.metadata (12 kB)\n",
      "  Using cached optax-0.1.4-py3-none-any.whl.metadata (12 kB)\n",
      "  Using cached optax-0.1.3-py3-none-any.whl.metadata (12 kB)\n",
      "  Using cached optax-0.1.2-py3-none-any.whl.metadata (12 kB)\n",
      "  Using cached optax-0.1.1-py3-none-any.whl.metadata (12 kB)\n",
      "  Using cached optax-0.1.0-py3-none-any.whl.metadata (12 kB)\n",
      "INFO: pip is still looking at multiple versions of optax to determine which version is compatible with other requirements. This could take a while.\n",
      "  Using cached optax-0.0.91-py3-none-any.whl.metadata (12 kB)\n",
      "  Using cached optax-0.0.9-py3-none-any.whl.metadata (9.3 kB)\n",
      "  Using cached optax-0.0.8-py3-none-any.whl.metadata (9.3 kB)\n",
      "  Using cached optax-0.0.6-py3-none-any.whl.metadata (9.0 kB)\n",
      "  Using cached optax-0.0.5-py3-none-any.whl.metadata (9.0 kB)\n",
      "INFO: This is taking longer than usual. You might need to provide the dependency resolver with stricter constraints to reduce runtime. See https://pip.pypa.io/warnings/backtracking for guidance. If you want to abort this run, press Ctrl + C.\n",
      "  Using cached optax-0.0.3-py3-none-any.whl.metadata (9.0 kB)\n",
      "  Using cached optax-0.0.2-py3-none-any.whl.metadata (9.0 kB)\n",
      "  Using cached optax-0.0.1-py3-none-any.whl.metadata (8.4 kB)\n",
      "Collecting flax>=0.5.3 (from tensorflowjs)\n",
      "  Using cached flax-0.7.0-py3-none-any.whl.metadata (9.9 kB)\n",
      "  Using cached flax-0.6.11-py3-none-any.whl.metadata (9.9 kB)\n",
      "  Using cached flax-0.6.10-py3-none-any.whl.metadata (9.9 kB)\n",
      "  Using cached flax-0.6.9-py3-none-any.whl.metadata (9.9 kB)\n",
      "  Using cached flax-0.6.8-py3-none-any.whl.metadata (9.9 kB)\n",
      "Collecting orbax (from flax>=0.5.3->tensorflowjs)\n",
      "  Using cached orbax-0.1.9.tar.gz (1.6 kB)\n",
      "  Preparing metadata (setup.py): started\n",
      "  Preparing metadata (setup.py): finished with status 'done'\n",
      "Collecting flax>=0.5.3 (from tensorflowjs)\n",
      "  Using cached flax-0.6.7-py3-none-any.whl.metadata (9.8 kB)\n",
      "  Using cached flax-0.6.6-py3-none-any.whl.metadata (9.6 kB)\n",
      "Requirement already satisfied: matplotlib in c:\\users\\vi tinh bach khoa\\appdata\\local\\programs\\python\\python38\\lib\\site-packages (from flax>=0.5.3->tensorflowjs) (3.7.5)\n",
      "  Using cached flax-0.6.4-py3-none-any.whl.metadata (9.6 kB)\n",
      "  Using cached flax-0.6.3-py3-none-any.whl.metadata (9.5 kB)\n",
      "  Using cached flax-0.6.1-py3-none-any.whl.metadata (9.4 kB)\n",
      "  Using cached flax-0.6.0-py3-none-any.whl.metadata (9.4 kB)\n",
      "Collecting rich~=11.1 (from flax>=0.5.3->tensorflowjs)\n",
      "  Using cached rich-11.2.0-py3-none-any.whl.metadata (19 kB)\n",
      "Collecting flax>=0.5.3 (from tensorflowjs)\n",
      "  Using cached flax-0.5.3-py3-none-any.whl.metadata (9.4 kB)\n",
      "\n",
      "The conflict is caused by:\n",
      "    optax 0.1.8 depends on jaxlib>=0.1.37\n",
      "    optax 0.1.7 depends on jaxlib>=0.1.37\n",
      "    optax 0.1.5 depends on jaxlib>=0.1.37\n",
      "    optax 0.1.4 depends on jaxlib>=0.1.37\n",
      "    optax 0.1.3 depends on jaxlib>=0.1.37\n",
      "    optax 0.1.2 depends on jaxlib>=0.1.37\n",
      "    optax 0.1.1 depends on jaxlib>=0.1.37\n",
      "    optax 0.1.0 depends on jaxlib>=0.1.37\n",
      "    optax 0.0.91 depends on jaxlib>=0.1.37\n",
      "    optax 0.0.9 depends on jaxlib>=0.1.37\n",
      "    optax 0.0.8 depends on jaxlib>=0.1.37\n",
      "    optax 0.0.6 depends on jaxlib>=0.1.37\n",
      "    optax 0.0.5 depends on jaxlib>=0.1.37\n",
      "    optax 0.0.3 depends on jaxlib>=0.1.37\n",
      "    optax 0.0.2 depends on jaxlib>=0.1.37\n",
      "    optax 0.0.1 depends on jaxlib>=0.1.37\n",
      "\n",
      "To fix this you could try to:\n",
      "1. loosen the range of package versions you've specified\n",
      "2. remove package versions to allow pip attempt to solve the dependency conflict\n",
      "\n",
      "Note: you may need to restart the kernel to use updated packages.\n"
     ]
    },
    {
     "name": "stderr",
     "output_type": "stream",
     "text": [
      "ERROR: Cannot install flax because these package versions have conflicting dependencies.\n",
      "ERROR: ResolutionImpossible: for help visit https://pip.pypa.io/en/latest/topics/dependency-resolution/#dealing-with-dependency-conflicts\n"
     ]
    }
   ],
   "source": [
    "%pip install tensorflowjs"
   ]
  },
  {
   "cell_type": "code",
   "execution_count": null,
   "metadata": {},
   "outputs": [],
   "source": []
  }
 ],
 "metadata": {
  "kernelspec": {
   "display_name": "Python 3",
   "language": "python",
   "name": "python3"
  },
  "language_info": {
   "codemirror_mode": {
    "name": "ipython",
    "version": 3
   },
   "file_extension": ".py",
   "mimetype": "text/x-python",
   "name": "python",
   "nbconvert_exporter": "python",
   "pygments_lexer": "ipython3",
   "version": "3.8.10"
  }
 },
 "nbformat": 4,
 "nbformat_minor": 2
}
